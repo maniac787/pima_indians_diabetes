{
 "cells": [
  {
   "cell_type": "markdown",
   "id": "df4540af571ddda1",
   "metadata": {},
   "source": [
    "# Estadistica descriptiva\n",
    "En Python, las funciones de estadística descriptiva nos permiten realizar un análisis exploratorio de los datos, obteniendo un resumen básico sobre su distribución y características. \n",
    "\n",
    "La biblioteca pandas es una herramienta clave para este tipo de análisis, ya que facilita la manipulación de datos y la ejecución de funciones estadísticas."
   ]
  },
  {
   "cell_type": "markdown",
   "id": "d7401a8e893a3e12",
   "metadata": {},
   "source": [
    "## 1. Cargar el dataset\n",
    "Primero, necesitamos cargar los datos, desde el archivo \"pima-indians-diabetes.csv\","
   ]
  },
  {
   "cell_type": "code",
   "execution_count": 86,
   "id": "8ae591beaaf862a9",
   "metadata": {
    "ExecuteTime": {
     "end_time": "2024-10-08T16:20:55.892963Z",
     "start_time": "2024-10-08T16:20:55.874215Z"
    }
   },
   "outputs": [],
   "source": [
    "# importar el paquete de pandas\n",
    "import pandas as pd\n",
    "\n",
    "# Cargar el archivo CSV en un DataFrame\n",
    "df = pd.read_csv(\"data/pima-indians-diabetes.csv\")"
   ]
  },
  {
   "cell_type": "markdown",
   "id": "1285f302b5447ef2",
   "metadata": {},
   "source": [
    "## 2. Revisar los primeros registros: head()\n",
    "Para revisar los primeros registros del dataset y obtener una vista previa:"
   ]
  },
  {
   "cell_type": "code",
   "execution_count": 87,
   "id": "64d5f4edcf4dddb3",
   "metadata": {
    "ExecuteTime": {
     "end_time": "2024-10-08T16:20:55.971751Z",
     "start_time": "2024-10-08T16:20:55.953916Z"
    }
   },
   "outputs": [
    {
     "name": "stdout",
     "output_type": "stream",
     "text": [
      "   6  148  72  35    0  33.6     627  50  1\n",
      "0  1   85  66  29    0  26.6   351.0  31  0\n",
      "1  8  183  64   0    0  23.3   672.0  32  1\n",
      "2  1   89  66  23   94  28.1   167.0  21  0\n",
      "3  0  137  40  35  168  43.1  2288.0  33  1\n",
      "4  5  116  74   0    0  25.6   201.0  30  0\n"
     ]
    }
   ],
   "source": [
    "# Muestra las primeras 5 filas del DataFrame\n",
    "print(df.head())"
   ]
  },
  {
   "cell_type": "markdown",
   "id": "8a77807f92f26ee",
   "metadata": {},
   "source": []
  },
  {
   "cell_type": "markdown",
   "id": "9a2396ca5b0d50c9",
   "metadata": {},
   "source": []
  },
  {
   "cell_type": "markdown",
   "id": "79638fc888a36858",
   "metadata": {},
   "source": [
    "# 3. Dimensiones del conjunto de datos: shape\n",
    "Para ver el número de filas y columnas en el DataFrame:"
   ]
  },
  {
   "cell_type": "markdown",
   "id": "880c1943837f1159",
   "metadata": {},
   "source": []
  },
  {
   "cell_type": "code",
   "execution_count": 88,
   "id": "fbc121e30a2defb3",
   "metadata": {
    "ExecuteTime": {
     "end_time": "2024-10-08T16:20:56.075246Z",
     "start_time": "2024-10-08T16:20:56.067340Z"
    }
   },
   "outputs": [
    {
     "name": "stdout",
     "output_type": "stream",
     "text": [
      "(767, 9)\n"
     ]
    }
   ],
   "source": [
    "# Muestra el número de filas y columnas\n",
    "print(df.shape)"
   ]
  },
  {
   "cell_type": "code",
   "execution_count": null,
   "id": "97bcbe3ee94932f8",
   "metadata": {
    "ExecuteTime": {
     "end_time": "2024-10-08T16:20:56.179864Z",
     "start_time": "2024-10-08T16:20:56.174311Z"
    }
   },
   "outputs": [],
   "source": []
  },
  {
   "cell_type": "markdown",
   "id": "c834fb0a05104c9e",
   "metadata": {},
   "source": [
    "# 4. Tipos de datos de cada columna: dtypes\n",
    "Esto muestra el tipo de dato (numérico, objeto, etc.) de cada columna:"
   ]
  },
  {
   "cell_type": "markdown",
   "id": "c0303012e7e5b4f3",
   "metadata": {},
   "source": []
  },
  {
   "cell_type": "code",
   "execution_count": 89,
   "id": "9e7918d26827079e",
   "metadata": {
    "ExecuteTime": {
     "end_time": "2024-10-08T16:20:56.288871Z",
     "start_time": "2024-10-08T16:20:56.278767Z"
    }
   },
   "outputs": [
    {
     "name": "stdout",
     "output_type": "stream",
     "text": [
      "6         int64\n",
      "148       int64\n",
      "72        int64\n",
      "35        int64\n",
      "0         int64\n",
      "33.6    float64\n",
      "627     float64\n",
      "50        int64\n",
      "1         int64\n",
      "dtype: object\n"
     ]
    }
   ],
   "source": [
    "# Muestra los tipos de datos de cada columna\n",
    "print(df.dtypes)"
   ]
  },
  {
   "cell_type": "markdown",
   "id": "a5f13bdd78de80f6",
   "metadata": {},
   "source": [
    "# 5. Resumen estadístico: describe()\n",
    "El método describe() genera estadísticas descriptivas como la media, desviación estándar, mínimo, máximo, y cuartiles:"
   ]
  },
  {
   "cell_type": "code",
   "execution_count": 90,
   "id": "a3bc2cf2e9532fa",
   "metadata": {
    "ExecuteTime": {
     "end_time": "2024-10-08T16:20:56.452977Z",
     "start_time": "2024-10-08T16:20:56.384291Z"
    }
   },
   "outputs": [
    {
     "name": "stdout",
     "output_type": "stream",
     "text": [
      "                6         148          72          35           0        33.6  \\\n",
      "count  767.000000  767.000000  767.000000  767.000000  767.000000  767.000000   \n",
      "mean     3.842243  120.859192   69.101695   20.517601   79.903520   31.990482   \n",
      "std      3.370877   31.978468   19.368155   15.954059  115.283105    7.889091   \n",
      "min      0.000000    0.000000    0.000000    0.000000    0.000000    0.000000   \n",
      "25%      1.000000   99.000000   62.000000    0.000000    0.000000   27.300000   \n",
      "50%      3.000000  117.000000   72.000000   23.000000   32.000000   32.000000   \n",
      "75%      6.000000  140.000000   80.000000   32.000000  127.500000   36.600000   \n",
      "max     17.000000  199.000000  122.000000   99.000000  846.000000   67.100000   \n",
      "\n",
      "               627          50           1  \n",
      "count   767.000000  767.000000  767.000000  \n",
      "mean    427.975945   33.219035    0.348110  \n",
      "std     340.632035   11.752296    0.476682  \n",
      "min       0.100000   21.000000    0.000000  \n",
      "25%     205.000000   24.000000    0.000000  \n",
      "50%     337.000000   29.000000    0.000000  \n",
      "75%     591.000000   41.000000    1.000000  \n",
      "max    2329.000000   81.000000    1.000000  \n"
     ]
    }
   ],
   "source": [
    "# Muestra un resumen estadístico de las columnas numéricas\n",
    "print(df.describe())"
   ]
  },
  {
   "cell_type": "code",
   "execution_count": 91,
   "id": "56c1872318c9f34e",
   "metadata": {
    "ExecuteTime": {
     "end_time": "2024-10-08T16:20:56.579128Z",
     "start_time": "2024-10-08T16:20:56.514767Z"
    }
   },
   "outputs": [
    {
     "name": "stdout",
     "output_type": "stream",
     "text": [
      "                6         148          72          35           0        33.6  \\\n",
      "count  767.000000  767.000000  767.000000  767.000000  767.000000  767.000000   \n",
      "mean     3.842243  120.859192   69.101695   20.517601   79.903520   31.990482   \n",
      "std      3.370877   31.978468   19.368155   15.954059  115.283105    7.889091   \n",
      "min      0.000000    0.000000    0.000000    0.000000    0.000000    0.000000   \n",
      "25%      1.000000   99.000000   62.000000    0.000000    0.000000   27.300000   \n",
      "50%      3.000000  117.000000   72.000000   23.000000   32.000000   32.000000   \n",
      "75%      6.000000  140.000000   80.000000   32.000000  127.500000   36.600000   \n",
      "max     17.000000  199.000000  122.000000   99.000000  846.000000   67.100000   \n",
      "\n",
      "               627          50           1  \n",
      "count   767.000000  767.000000  767.000000  \n",
      "mean    427.975945   33.219035    0.348110  \n",
      "std     340.632035   11.752296    0.476682  \n",
      "min       0.100000   21.000000    0.000000  \n",
      "25%     205.000000   24.000000    0.000000  \n",
      "50%     337.000000   29.000000    0.000000  \n",
      "75%     591.000000   41.000000    1.000000  \n",
      "max    2329.000000   81.000000    1.000000  \n"
     ]
    }
   ],
   "source": [
    "#Si se requiere un resumen de todas las columnas, incluidas las categóricas, se puede pasar el parámetro include='all':\n",
    "print(df.describe(include='all'))"
   ]
  },
  {
   "cell_type": "markdown",
   "id": "fc182291519c1afd",
   "metadata": {},
   "source": []
  },
  {
   "cell_type": "markdown",
   "id": "8321970e1c4c4d4",
   "metadata": {},
   "source": [
    "# 6. Distribución entre clases: groupby()"
   ]
  },
  {
   "cell_type": "code",
   "execution_count": 92,
   "id": "d0d9f79552946e4a",
   "metadata": {
    "ExecuteTime": {
     "end_time": "2024-10-08T16:20:56.653638Z",
     "start_time": "2024-10-08T16:20:56.645963Z"
    }
   },
   "outputs": [],
   "source": [
    "# Si quieres ver la distribución de las observaciones por clase(por ejemplo, cuántas personas tienen o no tienen diabetes), puedes agrupar por la columna queindica la clase:"
   ]
  },
  {
   "cell_type": "code",
   "execution_count": 93,
   "id": "9024a1a3d13dd24b",
   "metadata": {
    "ExecuteTime": {
     "end_time": "2024-10-08T16:20:56.935771Z",
     "start_time": "2024-10-08T16:20:56.744340Z"
    }
   },
   "outputs": [
    {
     "ename": "KeyError",
     "evalue": "'Pregnancies'",
     "output_type": "error",
     "traceback": [
      "\u001b[0;31m---------------------------------------------------------------------------\u001b[0m",
      "\u001b[0;31mKeyError\u001b[0m                                  Traceback (most recent call last)",
      "Cell \u001b[0;32mIn[93], line 2\u001b[0m\n\u001b[1;32m      1\u001b[0m \u001b[38;5;66;03m# Agrupa por la columna \"6\"\u001b[39;00m\n\u001b[0;32m----> 2\u001b[0m \u001b[38;5;28mprint\u001b[39m(df\u001b[38;5;241m.\u001b[39mgroupby(\u001b[38;5;124m'\u001b[39m\u001b[38;5;124mPregnancies\u001b[39m\u001b[38;5;124m'\u001b[39m)\u001b[38;5;241m.\u001b[39msize())\n",
      "File \u001b[0;32m~/miniconda3/lib/python3.12/site-packages/pandas/core/frame.py:9183\u001b[0m, in \u001b[0;36mDataFrame.groupby\u001b[0;34m(self, by, axis, level, as_index, sort, group_keys, observed, dropna)\u001b[0m\n\u001b[1;32m   9180\u001b[0m \u001b[38;5;28;01mif\u001b[39;00m level \u001b[38;5;129;01mis\u001b[39;00m \u001b[38;5;28;01mNone\u001b[39;00m \u001b[38;5;129;01mand\u001b[39;00m by \u001b[38;5;129;01mis\u001b[39;00m \u001b[38;5;28;01mNone\u001b[39;00m:\n\u001b[1;32m   9181\u001b[0m     \u001b[38;5;28;01mraise\u001b[39;00m \u001b[38;5;167;01mTypeError\u001b[39;00m(\u001b[38;5;124m\"\u001b[39m\u001b[38;5;124mYou have to supply one of \u001b[39m\u001b[38;5;124m'\u001b[39m\u001b[38;5;124mby\u001b[39m\u001b[38;5;124m'\u001b[39m\u001b[38;5;124m and \u001b[39m\u001b[38;5;124m'\u001b[39m\u001b[38;5;124mlevel\u001b[39m\u001b[38;5;124m'\u001b[39m\u001b[38;5;124m\"\u001b[39m)\n\u001b[0;32m-> 9183\u001b[0m \u001b[38;5;28;01mreturn\u001b[39;00m DataFrameGroupBy(\n\u001b[1;32m   9184\u001b[0m     obj\u001b[38;5;241m=\u001b[39m\u001b[38;5;28mself\u001b[39m,\n\u001b[1;32m   9185\u001b[0m     keys\u001b[38;5;241m=\u001b[39mby,\n\u001b[1;32m   9186\u001b[0m     axis\u001b[38;5;241m=\u001b[39maxis,\n\u001b[1;32m   9187\u001b[0m     level\u001b[38;5;241m=\u001b[39mlevel,\n\u001b[1;32m   9188\u001b[0m     as_index\u001b[38;5;241m=\u001b[39mas_index,\n\u001b[1;32m   9189\u001b[0m     sort\u001b[38;5;241m=\u001b[39msort,\n\u001b[1;32m   9190\u001b[0m     group_keys\u001b[38;5;241m=\u001b[39mgroup_keys,\n\u001b[1;32m   9191\u001b[0m     observed\u001b[38;5;241m=\u001b[39mobserved,\n\u001b[1;32m   9192\u001b[0m     dropna\u001b[38;5;241m=\u001b[39mdropna,\n\u001b[1;32m   9193\u001b[0m )\n",
      "File \u001b[0;32m~/miniconda3/lib/python3.12/site-packages/pandas/core/groupby/groupby.py:1329\u001b[0m, in \u001b[0;36mGroupBy.__init__\u001b[0;34m(self, obj, keys, axis, level, grouper, exclusions, selection, as_index, sort, group_keys, observed, dropna)\u001b[0m\n\u001b[1;32m   1326\u001b[0m \u001b[38;5;28mself\u001b[39m\u001b[38;5;241m.\u001b[39mdropna \u001b[38;5;241m=\u001b[39m dropna\n\u001b[1;32m   1328\u001b[0m \u001b[38;5;28;01mif\u001b[39;00m grouper \u001b[38;5;129;01mis\u001b[39;00m \u001b[38;5;28;01mNone\u001b[39;00m:\n\u001b[0;32m-> 1329\u001b[0m     grouper, exclusions, obj \u001b[38;5;241m=\u001b[39m get_grouper(\n\u001b[1;32m   1330\u001b[0m         obj,\n\u001b[1;32m   1331\u001b[0m         keys,\n\u001b[1;32m   1332\u001b[0m         axis\u001b[38;5;241m=\u001b[39maxis,\n\u001b[1;32m   1333\u001b[0m         level\u001b[38;5;241m=\u001b[39mlevel,\n\u001b[1;32m   1334\u001b[0m         sort\u001b[38;5;241m=\u001b[39msort,\n\u001b[1;32m   1335\u001b[0m         observed\u001b[38;5;241m=\u001b[39m\u001b[38;5;28;01mFalse\u001b[39;00m \u001b[38;5;28;01mif\u001b[39;00m observed \u001b[38;5;129;01mis\u001b[39;00m lib\u001b[38;5;241m.\u001b[39mno_default \u001b[38;5;28;01melse\u001b[39;00m observed,\n\u001b[1;32m   1336\u001b[0m         dropna\u001b[38;5;241m=\u001b[39m\u001b[38;5;28mself\u001b[39m\u001b[38;5;241m.\u001b[39mdropna,\n\u001b[1;32m   1337\u001b[0m     )\n\u001b[1;32m   1339\u001b[0m \u001b[38;5;28;01mif\u001b[39;00m observed \u001b[38;5;129;01mis\u001b[39;00m lib\u001b[38;5;241m.\u001b[39mno_default:\n\u001b[1;32m   1340\u001b[0m     \u001b[38;5;28;01mif\u001b[39;00m \u001b[38;5;28many\u001b[39m(ping\u001b[38;5;241m.\u001b[39m_passed_categorical \u001b[38;5;28;01mfor\u001b[39;00m ping \u001b[38;5;129;01min\u001b[39;00m grouper\u001b[38;5;241m.\u001b[39mgroupings):\n",
      "File \u001b[0;32m~/miniconda3/lib/python3.12/site-packages/pandas/core/groupby/grouper.py:1043\u001b[0m, in \u001b[0;36mget_grouper\u001b[0;34m(obj, key, axis, level, sort, observed, validate, dropna)\u001b[0m\n\u001b[1;32m   1041\u001b[0m         in_axis, level, gpr \u001b[38;5;241m=\u001b[39m \u001b[38;5;28;01mFalse\u001b[39;00m, gpr, \u001b[38;5;28;01mNone\u001b[39;00m\n\u001b[1;32m   1042\u001b[0m     \u001b[38;5;28;01melse\u001b[39;00m:\n\u001b[0;32m-> 1043\u001b[0m         \u001b[38;5;28;01mraise\u001b[39;00m \u001b[38;5;167;01mKeyError\u001b[39;00m(gpr)\n\u001b[1;32m   1044\u001b[0m \u001b[38;5;28;01melif\u001b[39;00m \u001b[38;5;28misinstance\u001b[39m(gpr, Grouper) \u001b[38;5;129;01mand\u001b[39;00m gpr\u001b[38;5;241m.\u001b[39mkey \u001b[38;5;129;01mis\u001b[39;00m \u001b[38;5;129;01mnot\u001b[39;00m \u001b[38;5;28;01mNone\u001b[39;00m:\n\u001b[1;32m   1045\u001b[0m     \u001b[38;5;66;03m# Add key to exclusions\u001b[39;00m\n\u001b[1;32m   1046\u001b[0m     exclusions\u001b[38;5;241m.\u001b[39madd(gpr\u001b[38;5;241m.\u001b[39mkey)\n",
      "\u001b[0;31mKeyError\u001b[0m: 'Pregnancies'"
     ]
    }
   ],
   "source": [
    "# Agrupa por la columna \"6\"\n",
    "print(df.groupby('Pregnancies').size())\n"
   ]
  },
  {
   "cell_type": "markdown",
   "id": "81e159463661399b",
   "metadata": {},
   "source": [
    "# 7. Matriz de correlación: corr()\n",
    "La matriz de correlación muestra la relación entre las variables numéricas en el conjunto de datos:"
   ]
  },
  {
   "cell_type": "code",
   "execution_count": 83,
   "id": "f998c4ac3675ca80",
   "metadata": {
    "ExecuteTime": {
     "end_time": "2024-10-08T16:20:56.942598803Z",
     "start_time": "2024-10-08T16:20:08.943895Z"
    }
   },
   "outputs": [
    {
     "name": "stdout",
     "output_type": "stream",
     "text": [
      "                          Pregnancies   Glucose  BloodPressure  SkinThickness  \\\n",
      "Pregnancies                  1.000000  0.129459       0.141282      -0.081672   \n",
      "Glucose                      0.129459  1.000000       0.152590       0.057328   \n",
      "BloodPressure                0.141282  0.152590       1.000000       0.207371   \n",
      "SkinThickness               -0.081672  0.057328       0.207371       1.000000   \n",
      "Insulin                     -0.073535  0.331357       0.088933       0.436783   \n",
      "BMI                          0.017683  0.221071       0.281805       0.392573   \n",
      "DiabetesPedigreeFunction    -0.033523  0.137337       0.041265       0.183928   \n",
      "Age                          0.544341  0.263514       0.239528      -0.113970   \n",
      "Outcome                      0.221898  0.466581       0.065068       0.074752   \n",
      "\n",
      "                           Insulin       BMI  DiabetesPedigreeFunction  \\\n",
      "Pregnancies              -0.073535  0.017683                 -0.033523   \n",
      "Glucose                   0.331357  0.221071                  0.137337   \n",
      "BloodPressure             0.088933  0.281805                  0.041265   \n",
      "SkinThickness             0.436783  0.392573                  0.183928   \n",
      "Insulin                   1.000000  0.197859                  0.185071   \n",
      "BMI                       0.197859  1.000000                  0.140647   \n",
      "DiabetesPedigreeFunction  0.185071  0.140647                  1.000000   \n",
      "Age                      -0.042163  0.036242                  0.033561   \n",
      "Outcome                   0.130548  0.292695                  0.173844   \n",
      "\n",
      "                               Age   Outcome  \n",
      "Pregnancies               0.544341  0.221898  \n",
      "Glucose                   0.263514  0.466581  \n",
      "BloodPressure             0.239528  0.065068  \n",
      "SkinThickness            -0.113970  0.074752  \n",
      "Insulin                  -0.042163  0.130548  \n",
      "BMI                       0.036242  0.292695  \n",
      "DiabetesPedigreeFunction  0.033561  0.173844  \n",
      "Age                       1.000000  0.238356  \n",
      "Outcome                   0.238356  1.000000  \n"
     ]
    }
   ],
   "source": [
    "# Muestra la matriz de correlación\n",
    "print(df.corr())"
   ]
  },
  {
   "cell_type": "markdown",
   "id": "20d2892366eb5f30",
   "metadata": {},
   "source": []
  },
  {
   "cell_type": "markdown",
   "id": "78387e015a03b773",
   "metadata": {},
   "source": [
    "# 8. Asimetría (sesgo): skew()"
   ]
  },
  {
   "cell_type": "code",
   "execution_count": 84,
   "id": "b390032119eece86",
   "metadata": {
    "ExecuteTime": {
     "end_time": "2024-10-08T16:20:56.942835178Z",
     "start_time": "2024-10-08T16:20:09.053507Z"
    }
   },
   "outputs": [],
   "source": [
    "# La función skew() calcula el coeficiente de asimetría para cada columna numérica, lo que nos dice si las distribuciones son simétricas o están sesgadas:"
   ]
  },
  {
   "cell_type": "code",
   "execution_count": 85,
   "id": "e31f01b1c3bd1b30",
   "metadata": {
    "ExecuteTime": {
     "end_time": "2024-10-08T16:20:56.942964305Z",
     "start_time": "2024-10-08T16:20:09.132190Z"
    }
   },
   "outputs": [
    {
     "name": "stdout",
     "output_type": "stream",
     "text": [
      "Pregnancies                 0.901674\n",
      "Glucose                     0.173754\n",
      "BloodPressure              -1.843608\n",
      "SkinThickness               0.109372\n",
      "Insulin                     2.272251\n",
      "BMI                        -0.428982\n",
      "DiabetesPedigreeFunction    1.919911\n",
      "Age                         1.129597\n",
      "Outcome                     0.635017\n",
      "dtype: float64\n"
     ]
    }
   ],
   "source": [
    "# Calcula el coeficiente de asimetría para cada columna numérica\n",
    "print(df.skew())"
   ]
  },
  {
   "cell_type": "markdown",
   "id": "7296d4f0d3111d4",
   "metadata": {},
   "source": []
  },
  {
   "cell_type": "code",
   "execution_count": null,
   "id": "e5d51e317030a666",
   "metadata": {
    "ExecuteTime": {
     "end_time": "2024-10-08T16:20:56.943151126Z",
     "start_time": "2024-10-08T16:20:09.214312Z"
    }
   },
   "outputs": [],
   "source": []
  },
  {
   "cell_type": "markdown",
   "id": "54e5f556cd3b4f3d",
   "metadata": {},
   "source": []
  },
  {
   "cell_type": "markdown",
   "id": "102b5ad432821ab5",
   "metadata": {},
   "source": [
    "## Interpretación de los resultados:\n",
    "### head(): Muestra cómo están organizados los datos y si hay alguna anomalía o valores faltantes.\n",
    "- Para el caso de estudio se identifica que no hay cabeceras, lo que nos indica datos sin relevancia\n",
    "### shape: Indica si tienes suficientes datos para tu análisis y el número de características disponibles.\n",
    "- Se valida que existe información qu puede ser utilizada.\n",
    "### dtypes: Verifica que los tipos de datos sean correctos (por ejemplo, que los números estén correctamente almacenados como enteros o decimales).\n",
    " - Se verfifica cada columna tiene asociada un tipo de dato \n",
    "### describe(): Permite analizar estadísticas como la media, desviación estándar, y la dispersión de los datos. También puedes detectar valores atípicos.\n",
    "- Desde este punto ya se puede evidenciar mas concretamente, el problema de tener una data no completa, debido a que los datos estadisticon no se pueden relacionar a una caracteristica del estudio.\n",
    "### groupby(): Permite ver cómo están distribuidas las clases. En el caso de los indios Pima, te ayudará a identificar si hay un desbalance en las personas con y sin diabetes.\n",
    "- No se pueden identificar grupos debido a la falta de cabeceras\n",
    "### corr(): Sirve para identificar qué variables están más relacionadas entre sí, lo que puede ser útil para detectar redundancias.\n",
    "- No es viable debinir una correlacion de datos \n",
    "### skew(): Indica el grado de asimetría. Valores altos de asimetría pueden sugerir la necesidad de transformaciones para mejorar el rendimiento de algunos modelos.\n",
    "\n",
    "# Conclusion\n",
    "Estas funciones son fundamentales para realizar un análisis exploratorio de datos antes de implementar modelos de machine learning.\n",
    "\n",
    "Se concluye que la falta de cabeceras es un determinante para no poder interpretar la información y dar una análisis claro del estudio."
   ]
  }
 ],
 "metadata": {
  "kernelspec": {
   "display_name": "Python 3 (ipykernel)",
   "language": "python",
   "name": "python3"
  },
  "language_info": {
   "codemirror_mode": {
    "name": "ipython",
    "version": 3
   },
   "file_extension": ".py",
   "mimetype": "text/x-python",
   "name": "python",
   "nbconvert_exporter": "python",
   "pygments_lexer": "ipython3",
   "version": "3.12.2"
  }
 },
 "nbformat": 4,
 "nbformat_minor": 5
}
