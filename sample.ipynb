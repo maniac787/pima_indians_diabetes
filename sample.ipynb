{
 "cells": [
  {
   "cell_type": "markdown",
   "id": "df4540af571ddda1",
   "metadata": {},
   "source": [
    "# Estadistica descriptiva\n",
    "En Python, las funciones de estadística descriptiva nos permiten realizar un análisis exploratorio de los datos, obteniendo un resumen básico sobre su distribución y características. \n",
    "\n",
    "La biblioteca pandas es una herramienta clave para este tipo de análisis, ya que facilita la manipulación de datos y la ejecución de funciones estadísticas."
   ]
  },
  {
   "cell_type": "markdown",
   "id": "d7401a8e893a3e12",
   "metadata": {},
   "source": [
    "## 1. Cargar el dataset\n",
    "Primero, necesitamos cargar los datos, desde el archivo \"pima-indians-diabetes.csv\","
   ]
  },
  {
   "cell_type": "code",
   "execution_count": 9,
   "id": "8ae591beaaf862a9",
   "metadata": {
    "ExecuteTime": {
     "end_time": "2024-10-09T01:19:02.944371Z",
     "start_time": "2024-10-09T01:19:02.928996Z"
    }
   },
   "outputs": [],
   "source": [
    "# importar el paquete de pandas\n",
    "import pandas as pd\n",
    "\n",
    "# Cargar el archivo CSV en un DataFrame\n",
    "df = pd.read_csv(\"data/pima-indians-diabetes.csv\")"
   ]
  },
  {
   "cell_type": "markdown",
   "id": "1285f302b5447ef2",
   "metadata": {},
   "source": [
    "## 2. Revisar los primeros registros: head()\n",
    "Para revisar los primeros registros del dataset y obtener una vista previa:"
   ]
  },
  {
   "cell_type": "code",
   "execution_count": 10,
   "id": "64d5f4edcf4dddb3",
   "metadata": {
    "ExecuteTime": {
     "end_time": "2024-10-09T01:19:03.053848Z",
     "start_time": "2024-10-09T01:19:03.033686Z"
    }
   },
   "outputs": [
    {
     "name": "stdout",
     "output_type": "stream",
     "text": [
      "   6  148  72  35    0  33.6     627  50  1\n",
      "0  1   85  66  29    0  26.6   351.0  31  0\n",
      "1  8  183  64   0    0  23.3   672.0  32  1\n",
      "2  1   89  66  23   94  28.1   167.0  21  0\n",
      "3  0  137  40  35  168  43.1  2288.0  33  1\n",
      "4  5  116  74   0    0  25.6   201.0  30  0\n"
     ]
    }
   ],
   "source": [
    "# Muestra las primeras 5 filas del DataFrame\n",
    "print(df.head())"
   ]
  },
  {
   "cell_type": "markdown",
   "id": "8a77807f92f26ee",
   "metadata": {},
   "source": []
  },
  {
   "cell_type": "markdown",
   "id": "9a2396ca5b0d50c9",
   "metadata": {},
   "source": []
  },
  {
   "cell_type": "markdown",
   "id": "79638fc888a36858",
   "metadata": {},
   "source": [
    "# 3. Dimensiones del conjunto de datos: shape\n",
    "Para ver el número de filas y columnas en el DataFrame:"
   ]
  },
  {
   "cell_type": "markdown",
   "id": "880c1943837f1159",
   "metadata": {},
   "source": []
  },
  {
   "cell_type": "code",
   "execution_count": 11,
   "id": "fbc121e30a2defb3",
   "metadata": {
    "ExecuteTime": {
     "end_time": "2024-10-09T01:19:03.146864Z",
     "start_time": "2024-10-09T01:19:03.142679Z"
    }
   },
   "outputs": [
    {
     "name": "stdout",
     "output_type": "stream",
     "text": [
      "(767, 9)\n"
     ]
    }
   ],
   "source": [
    "# Muestra el número de filas y columnas\n",
    "print(df.shape)"
   ]
  },
  {
   "cell_type": "code",
   "execution_count": null,
   "id": "97bcbe3ee94932f8",
   "metadata": {
    "ExecuteTime": {
     "end_time": "2024-10-09T01:19:03.226387Z",
     "start_time": "2024-10-09T01:19:03.223128Z"
    }
   },
   "outputs": [],
   "source": []
  },
  {
   "cell_type": "markdown",
   "id": "c834fb0a05104c9e",
   "metadata": {},
   "source": [
    "# 4. Tipos de datos de cada columna: dtypes\n",
    "Esto muestra el tipo de dato (numérico, objeto, etc.) de cada columna:"
   ]
  },
  {
   "cell_type": "markdown",
   "id": "c0303012e7e5b4f3",
   "metadata": {},
   "source": []
  },
  {
   "cell_type": "code",
   "execution_count": 12,
   "id": "9e7918d26827079e",
   "metadata": {
    "ExecuteTime": {
     "end_time": "2024-10-09T01:19:03.285526Z",
     "start_time": "2024-10-09T01:19:03.281124Z"
    }
   },
   "outputs": [
    {
     "name": "stdout",
     "output_type": "stream",
     "text": [
      "6         int64\n",
      "148       int64\n",
      "72        int64\n",
      "35        int64\n",
      "0         int64\n",
      "33.6    float64\n",
      "627     float64\n",
      "50        int64\n",
      "1         int64\n",
      "dtype: object\n"
     ]
    }
   ],
   "source": [
    "# Muestra los tipos de datos de cada columna\n",
    "print(df.dtypes)"
   ]
  },
  {
   "cell_type": "markdown",
   "id": "a5f13bdd78de80f6",
   "metadata": {},
   "source": [
    "# 5. Resumen estadístico: describe()\n",
    "El método describe() genera estadísticas descriptivas como la media, desviación estándar, mínimo, máximo, y cuartiles:"
   ]
  },
  {
   "cell_type": "code",
   "execution_count": 13,
   "id": "a3bc2cf2e9532fa",
   "metadata": {
    "ExecuteTime": {
     "end_time": "2024-10-09T01:19:03.368607Z",
     "start_time": "2024-10-09T01:19:03.344085Z"
    }
   },
   "outputs": [
    {
     "name": "stdout",
     "output_type": "stream",
     "text": [
      "                6         148          72          35           0        33.6  \\\n",
      "count  767.000000  767.000000  767.000000  767.000000  767.000000  767.000000   \n",
      "mean     3.842243  120.859192   69.101695   20.517601   79.903520   31.990482   \n",
      "std      3.370877   31.978468   19.368155   15.954059  115.283105    7.889091   \n",
      "min      0.000000    0.000000    0.000000    0.000000    0.000000    0.000000   \n",
      "25%      1.000000   99.000000   62.000000    0.000000    0.000000   27.300000   \n",
      "50%      3.000000  117.000000   72.000000   23.000000   32.000000   32.000000   \n",
      "75%      6.000000  140.000000   80.000000   32.000000  127.500000   36.600000   \n",
      "max     17.000000  199.000000  122.000000   99.000000  846.000000   67.100000   \n",
      "\n",
      "               627          50           1  \n",
      "count   767.000000  767.000000  767.000000  \n",
      "mean    427.975945   33.219035    0.348110  \n",
      "std     340.632035   11.752296    0.476682  \n",
      "min       0.100000   21.000000    0.000000  \n",
      "25%     205.000000   24.000000    0.000000  \n",
      "50%     337.000000   29.000000    0.000000  \n",
      "75%     591.000000   41.000000    1.000000  \n",
      "max    2329.000000   81.000000    1.000000  \n"
     ]
    }
   ],
   "source": [
    "# Muestra un resumen estadístico de las columnas numéricas\n",
    "print(df.describe())"
   ]
  },
  {
   "cell_type": "code",
   "execution_count": 14,
   "id": "56c1872318c9f34e",
   "metadata": {
    "ExecuteTime": {
     "end_time": "2024-10-09T01:19:03.431365Z",
     "start_time": "2024-10-09T01:19:03.410741Z"
    }
   },
   "outputs": [
    {
     "name": "stdout",
     "output_type": "stream",
     "text": [
      "                6         148          72          35           0        33.6  \\\n",
      "count  767.000000  767.000000  767.000000  767.000000  767.000000  767.000000   \n",
      "mean     3.842243  120.859192   69.101695   20.517601   79.903520   31.990482   \n",
      "std      3.370877   31.978468   19.368155   15.954059  115.283105    7.889091   \n",
      "min      0.000000    0.000000    0.000000    0.000000    0.000000    0.000000   \n",
      "25%      1.000000   99.000000   62.000000    0.000000    0.000000   27.300000   \n",
      "50%      3.000000  117.000000   72.000000   23.000000   32.000000   32.000000   \n",
      "75%      6.000000  140.000000   80.000000   32.000000  127.500000   36.600000   \n",
      "max     17.000000  199.000000  122.000000   99.000000  846.000000   67.100000   \n",
      "\n",
      "               627          50           1  \n",
      "count   767.000000  767.000000  767.000000  \n",
      "mean    427.975945   33.219035    0.348110  \n",
      "std     340.632035   11.752296    0.476682  \n",
      "min       0.100000   21.000000    0.000000  \n",
      "25%     205.000000   24.000000    0.000000  \n",
      "50%     337.000000   29.000000    0.000000  \n",
      "75%     591.000000   41.000000    1.000000  \n",
      "max    2329.000000   81.000000    1.000000  \n"
     ]
    }
   ],
   "source": [
    "#Si se requiere un resumen de todas las columnas, incluidas las categóricas, se puede pasar el parámetro include='all':\n",
    "print(df.describe(include='all'))"
   ]
  },
  {
   "cell_type": "markdown",
   "id": "fc182291519c1afd",
   "metadata": {},
   "source": []
  },
  {
   "cell_type": "markdown",
   "id": "8321970e1c4c4d4",
   "metadata": {},
   "source": [
    "# 6. Distribución entre clases: groupby()"
   ]
  },
  {
   "cell_type": "code",
   "execution_count": 15,
   "id": "d0d9f79552946e4a",
   "metadata": {
    "ExecuteTime": {
     "end_time": "2024-10-09T01:19:03.628317Z",
     "start_time": "2024-10-09T01:19:03.623995Z"
    }
   },
   "outputs": [],
   "source": [
    "# Si quieres ver la distribución de las observaciones por clase(por ejemplo, cuántas personas tienen o no tienen diabetes), puedes agrupar por la columna queindica la clase:"
   ]
  },
  {
   "cell_type": "code",
   "execution_count": 16,
   "id": "9024a1a3d13dd24b",
   "metadata": {
    "ExecuteTime": {
     "end_time": "2024-10-09T01:19:03.718431Z",
     "start_time": "2024-10-09T01:19:03.713509Z"
    }
   },
   "outputs": [
    {
     "name": "stdout",
     "output_type": "stream",
     "text": [
      "6\n",
      "0     111\n",
      "1     135\n",
      "2     103\n",
      "3      75\n",
      "4      68\n",
      "5      57\n",
      "6      49\n",
      "7      45\n",
      "8      38\n",
      "9      28\n",
      "10     24\n",
      "11     11\n",
      "12      9\n",
      "13     10\n",
      "14      2\n",
      "15      1\n",
      "17      1\n",
      "dtype: int64\n"
     ]
    }
   ],
   "source": [
    "# Agrupa por la columna \"6\"\n",
    "print(df.groupby('6').size())\n"
   ]
  },
  {
   "cell_type": "markdown",
   "id": "81e159463661399b",
   "metadata": {},
   "source": [
    "# 7. Matriz de correlación: corr()\n",
    "La matriz de correlación muestra la relación entre las variables numéricas en el conjunto de datos:"
   ]
  },
  {
   "cell_type": "code",
   "execution_count": 17,
   "id": "f998c4ac3675ca80",
   "metadata": {
    "ExecuteTime": {
     "end_time": "2024-10-09T01:19:03.842994Z",
     "start_time": "2024-10-09T01:19:03.835618Z"
    }
   },
   "outputs": [
    {
     "name": "stdout",
     "output_type": "stream",
     "text": [
      "             6       148        72        35         0      33.6       627  \\\n",
      "6     1.000000  0.128846  0.141197 -0.082495 -0.072999  0.017518 -0.026706   \n",
      "148   0.128846  1.000000  0.152498  0.056381  0.332383  0.220955  0.132609   \n",
      "72    0.141197  0.152498  1.000000  0.207308  0.089098  0.281777  0.051334   \n",
      "35   -0.082495  0.056381  0.207308  1.000000  0.437974  0.392553  0.153700   \n",
      "0    -0.072999  0.332383  0.089098  0.437974  1.000000  0.198111  0.185834   \n",
      "33.6  0.017518  0.220955  0.281777  0.392553  0.198111  1.000000  0.103446   \n",
      "627  -0.026706  0.132609  0.051334  0.153700  0.185834  0.103446  1.000000   \n",
      "50    0.544018  0.262408  0.239571 -0.115873 -0.040942  0.035911  0.016910   \n",
      "1     0.221087  0.465856  0.064882  0.073265  0.131984  0.292695  0.175821   \n",
      "\n",
      "            50         1  \n",
      "6     0.544018  0.221087  \n",
      "148   0.262408  0.465856  \n",
      "72    0.239571  0.064882  \n",
      "35   -0.115873  0.073265  \n",
      "0    -0.040942  0.131984  \n",
      "33.6  0.035911  0.292695  \n",
      "627   0.016910  0.175821  \n",
      "50    1.000000  0.236417  \n",
      "1     0.236417  1.000000  \n"
     ]
    }
   ],
   "source": [
    "# Muestra la matriz de correlación\n",
    "print(df.corr())"
   ]
  },
  {
   "cell_type": "markdown",
   "id": "20d2892366eb5f30",
   "metadata": {},
   "source": []
  },
  {
   "cell_type": "markdown",
   "id": "78387e015a03b773",
   "metadata": {},
   "source": [
    "# 8. Asimetría (sesgo): skew()"
   ]
  },
  {
   "cell_type": "code",
   "execution_count": 18,
   "id": "b390032119eece86",
   "metadata": {
    "ExecuteTime": {
     "end_time": "2024-10-09T01:19:03.906641Z",
     "start_time": "2024-10-09T01:19:03.903944Z"
    }
   },
   "outputs": [],
   "source": [
    "# La función skew() calcula el coeficiente de asimetría para cada columna numérica, lo que nos dice si las distribuciones son simétricas o están sesgadas:"
   ]
  },
  {
   "cell_type": "code",
   "execution_count": 19,
   "id": "e31f01b1c3bd1b30",
   "metadata": {
    "ExecuteTime": {
     "end_time": "2024-10-09T01:19:03.958481Z",
     "start_time": "2024-10-09T01:19:03.953141Z"
    }
   },
   "outputs": [
    {
     "name": "stdout",
     "output_type": "stream",
     "text": [
      "6       0.903976\n",
      "148     0.176412\n",
      "72     -1.841911\n",
      "35      0.112058\n",
      "0       2.270630\n",
      "33.6   -0.427950\n",
      "627     1.564035\n",
      "50      1.135165\n",
      "1       0.638949\n",
      "dtype: float64\n"
     ]
    }
   ],
   "source": [
    "# Calcula el coeficiente de asimetría para cada columna numérica\n",
    "print(df.skew())"
   ]
  },
  {
   "cell_type": "markdown",
   "id": "7296d4f0d3111d4",
   "metadata": {},
   "source": []
  },
  {
   "cell_type": "code",
   "execution_count": null,
   "id": "e5d51e317030a666",
   "metadata": {
    "ExecuteTime": {
     "end_time": "2024-10-09T01:19:04.008662Z",
     "start_time": "2024-10-09T01:19:04.006290Z"
    }
   },
   "outputs": [],
   "source": []
  },
  {
   "cell_type": "markdown",
   "id": "54e5f556cd3b4f3d",
   "metadata": {},
   "source": []
  },
  {
   "cell_type": "markdown",
   "id": "102b5ad432821ab5",
   "metadata": {},
   "source": [
    "## Interpretación de los resultados:\n",
    "### head(): Muestra cómo están organizados los datos y si hay alguna anomalía o valores faltantes.\n",
    "- Para el caso de estudio se identifica que no hay cabeceras, lo que nos indica datos sin relevancia\n",
    "### shape: Indica si tienes suficientes datos para tu análisis y el número de características disponibles.\n",
    "- Se valida que existe información qu puede ser utilizada.\n",
    "### dtypes: Verifica que los tipos de datos sean correctos (por ejemplo, que los números estén correctamente almacenados como enteros o decimales).\n",
    " - Se verfifica cada columna tiene asociada un tipo de dato \n",
    "### describe(): Permite analizar estadísticas como la media, desviación estándar, y la dispersión de los datos. También puedes detectar valores atípicos.\n",
    "- Desde este punto ya se puede evidenciar mas concretamente, el problema de tener una data no completa, debido a que los datos estadisticon no se pueden relacionar a una caracteristica del estudio.\n",
    "### groupby(): Permite ver cómo están distribuidas las clases. En el caso de los indios Pima, te ayudará a identificar si hay un desbalance en las personas con y sin diabetes.\n",
    "- No se pueden identificar grupos debido a la falta de cabeceras\n",
    "### corr(): Sirve para identificar qué variables están más relacionadas entre sí, lo que puede ser útil para detectar redundancias.\n",
    "- No es viable debinir una correlacion de datos \n",
    "### skew(): Indica el grado de asimetría. Valores altos de asimetría pueden sugerir la necesidad de transformaciones para mejorar el rendimiento de algunos modelos.\n",
    "\n",
    "# Conclusion\n",
    "Estas funciones son fundamentales para realizar un análisis exploratorio de datos antes de implementar modelos de machine learning.\n",
    "\n",
    "Se concluye que la falta de cabeceras es un determinante para no poder interpretar la información y dar una análisis claro del estudio."
   ]
  }
 ],
 "metadata": {
  "kernelspec": {
   "display_name": "Python 3 (ipykernel)",
   "language": "python",
   "name": "python3"
  },
  "language_info": {
   "codemirror_mode": {
    "name": "ipython",
    "version": 3
   },
   "file_extension": ".py",
   "mimetype": "text/x-python",
   "name": "python",
   "nbconvert_exporter": "python",
   "pygments_lexer": "ipython3",
   "version": "3.12.2"
  }
 },
 "nbformat": 4,
 "nbformat_minor": 5
}
